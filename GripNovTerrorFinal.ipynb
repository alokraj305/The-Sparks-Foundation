{
 "cells": [
  {
   "cell_type": "code",
   "execution_count": 1,
   "id": "7bccd913",
   "metadata": {},
   "outputs": [],
   "source": [
    "import pandas as pd"
   ]
  },
  {
   "cell_type": "code",
   "execution_count": 2,
   "id": "2b71bce0",
   "metadata": {},
   "outputs": [],
   "source": [
    "import numpy as np"
   ]
  },
  {
   "cell_type": "markdown",
   "id": "efc1ec62",
   "metadata": {},
   "source": [
    "### Importing the CSV File"
   ]
  },
  {
   "cell_type": "code",
   "execution_count": 3,
   "id": "ed068972",
   "metadata": {},
   "outputs": [],
   "source": [
    "df = pd.read_csv(r\"C:\\\\Users\\\\ALOKRAJ305\\\\Downloads\\\\TerrorismProject\\\\terrorr.csv\", low_memory=False)"
   ]
  },
  {
   "cell_type": "code",
   "execution_count": 4,
   "id": "2c3d0765",
   "metadata": {},
   "outputs": [
    {
     "name": "stdout",
     "output_type": "stream",
     "text": [
      "<class 'pandas.core.frame.DataFrame'>\n",
      "RangeIndex: 181691 entries, 0 to 181690\n",
      "Columns: 135 entries, eventid to related\n",
      "dtypes: float64(56), int64(21), object(58)\n",
      "memory usage: 187.1+ MB\n"
     ]
    }
   ],
   "source": [
    "df.info()"
   ]
  },
  {
   "cell_type": "code",
   "execution_count": 5,
   "id": "c6132277",
   "metadata": {},
   "outputs": [
    {
     "data": {
      "text/plain": [
       "Index(['eventid', 'iyear', 'imonth', 'iday', 'approxdate', 'extended',\n",
       "       'resolution', 'country', 'country_txt', 'region',\n",
       "       ...\n",
       "       'addnotes', 'scite1', 'scite2', 'scite3', 'dbsource', 'INT_LOG',\n",
       "       'INT_IDEO', 'INT_MISC', 'INT_ANY', 'related'],\n",
       "      dtype='object', length=135)"
      ]
     },
     "execution_count": 5,
     "metadata": {},
     "output_type": "execute_result"
    }
   ],
   "source": [
    "df.columns"
   ]
  },
  {
   "cell_type": "markdown",
   "id": "6024df8f",
   "metadata": {},
   "source": [
    "### Renaming the columns"
   ]
  },
  {
   "cell_type": "code",
   "execution_count": 11,
   "id": "41659529",
   "metadata": {},
   "outputs": [],
   "source": [
    "df.rename(columns={\n",
    "     \"iyear\" : \"year\",\n",
    "    \"imonth\" : \"month\",\n",
    "    \"country_txt\" : \"countryname\",\n",
    "    \"region_txt\" : \"regionname\",\n",
    "    \"provstate\" : \"provincestate\",\n",
    "    \"alternative_txt\" : \"cause\",\n",
    "    \"attacktype1_txt\" : \"attacktype11\",\n",
    "    \"attacktype2_txt\" : \"attacktype22\",\n",
    "    \"attacktype3_text\" : \"attacktype33\",\n",
    "    \"targtype1_txt\" : \"target11\",\n",
    "    \"targsubtype1_txt\" : \"target111\",\n",
    "    \"natlty1_txt\" : \"nationalityofterrorist\",\n",
    "    \"gname\" : \"group\",\n",
    "    \"gsubname\" : \"groupsubname\",\n",
    "    \"claimed\" : \"claimedattack\",\n",
    "    \"claimmode_txt\" : \"claimedby\",\n",
    "    \"weaptype1_txt\" : \"weapon1\",\n",
    "    \"weapsubtype1_txt\" : \"weaponsubtype1\",\n",
    "    \"propval\" : \"damagedpropertyvalue\",\n",
    "    \"nkill\" : \"poplekilled\",\n",
    "    \"nwound\":\"peoplewounded\",\n",
    "    \"nkillter\":\"terroristkilled\",\n",
    "    \"nwoundte\":\"terroristwounded\",\n",
    "    \"propextent_txt\" : \"extentofdamage\",\n",
    "    \"propvalue\" : \"damagevalue\"\n",
    "},inplace=True)"
   ]
  },
  {
   "cell_type": "markdown",
   "id": "ee5ae352",
   "metadata": {},
   "source": [
    "### Replacing undesired/incorrect values"
   ]
  },
  {
   "cell_type": "code",
   "execution_count": 12,
   "id": "9bff0cf2",
   "metadata": {},
   "outputs": [],
   "source": [
    "df.replace([-9, -99], np.nan, inplace=True)"
   ]
  },
  {
   "cell_type": "markdown",
   "id": "eee79821",
   "metadata": {},
   "source": [
    "### To check whether the redundant values are replaced or not, we check the minimum values"
   ]
  },
  {
   "cell_type": "code",
   "execution_count": 13,
   "id": "174493e3",
   "metadata": {},
   "outputs": [
    {
     "data": {
      "text/plain": [
       "eventid                 197000000000.0\n",
       "year                            1970.0\n",
       "month                              0.0\n",
       "iday                               0.0\n",
       "extended                           0.0\n",
       "                       ...            \n",
       "dbsource    Anti-Abortion Project 2010\n",
       "INT_LOG                            0.0\n",
       "INT_IDEO                           0.0\n",
       "INT_MISC                           0.0\n",
       "INT_ANY                            0.0\n",
       "Length: 84, dtype: object"
      ]
     },
     "execution_count": 13,
     "metadata": {},
     "output_type": "execute_result"
    }
   ],
   "source": [
    "df.min()"
   ]
  },
  {
   "cell_type": "markdown",
   "id": "4a412484",
   "metadata": {},
   "source": [
    "### Selecting the relevant columns"
   ]
  },
  {
   "cell_type": "code",
   "execution_count": 14,
   "id": "a5218007",
   "metadata": {},
   "outputs": [],
   "source": [
    "dfsel = df[[\"year\", \"month\", \"countryname\", \"provincestate\", \"city\", \"regionname\", \"success\",  \"suicide\", \"cause\", \"attacktype11\", \"attacktype22\", \"target11\", \"target111\", \"motive\", \"nationalityofterrorist\", \"group\", \"groupsubname\", \"claimedattack\",\"claimedby\", \"weapon1\",\"weaponsubtype1\", \"poplekilled\", \"peoplewounded\", \"terroristkilled\", \"terroristwounded\", \"extentofdamage\", \"ransompaidus\"]]"
   ]
  },
  {
   "cell_type": "code",
   "execution_count": 15,
   "id": "11c31ac3",
   "metadata": {},
   "outputs": [
    {
     "data": {
      "text/html": [
       "<div>\n",
       "<style scoped>\n",
       "    .dataframe tbody tr th:only-of-type {\n",
       "        vertical-align: middle;\n",
       "    }\n",
       "\n",
       "    .dataframe tbody tr th {\n",
       "        vertical-align: top;\n",
       "    }\n",
       "\n",
       "    .dataframe thead th {\n",
       "        text-align: right;\n",
       "    }\n",
       "</style>\n",
       "<table border=\"1\" class=\"dataframe\">\n",
       "  <thead>\n",
       "    <tr style=\"text-align: right;\">\n",
       "      <th></th>\n",
       "      <th>year</th>\n",
       "      <th>month</th>\n",
       "      <th>countryname</th>\n",
       "      <th>provincestate</th>\n",
       "      <th>city</th>\n",
       "      <th>regionname</th>\n",
       "      <th>success</th>\n",
       "      <th>suicide</th>\n",
       "      <th>cause</th>\n",
       "      <th>attacktype11</th>\n",
       "      <th>...</th>\n",
       "      <th>claimedattack</th>\n",
       "      <th>claimedby</th>\n",
       "      <th>weapon1</th>\n",
       "      <th>weaponsubtype1</th>\n",
       "      <th>poplekilled</th>\n",
       "      <th>peoplewounded</th>\n",
       "      <th>terroristkilled</th>\n",
       "      <th>terroristwounded</th>\n",
       "      <th>extentofdamage</th>\n",
       "      <th>ransompaidus</th>\n",
       "    </tr>\n",
       "  </thead>\n",
       "  <tbody>\n",
       "    <tr>\n",
       "      <th>0</th>\n",
       "      <td>1970.0</td>\n",
       "      <td>7.0</td>\n",
       "      <td>Dominican Republic</td>\n",
       "      <td>NaN</td>\n",
       "      <td>Santo Domingo</td>\n",
       "      <td>Central America &amp; Caribbean</td>\n",
       "      <td>1.0</td>\n",
       "      <td>0.0</td>\n",
       "      <td>NaN</td>\n",
       "      <td>Assassination</td>\n",
       "      <td>...</td>\n",
       "      <td>NaN</td>\n",
       "      <td>NaN</td>\n",
       "      <td>Unknown</td>\n",
       "      <td>NaN</td>\n",
       "      <td>1.0</td>\n",
       "      <td>0.0</td>\n",
       "      <td>NaN</td>\n",
       "      <td>NaN</td>\n",
       "      <td>NaN</td>\n",
       "      <td>NaN</td>\n",
       "    </tr>\n",
       "    <tr>\n",
       "      <th>1</th>\n",
       "      <td>1970.0</td>\n",
       "      <td>0.0</td>\n",
       "      <td>Mexico</td>\n",
       "      <td>Federal</td>\n",
       "      <td>Mexico city</td>\n",
       "      <td>North America</td>\n",
       "      <td>1.0</td>\n",
       "      <td>0.0</td>\n",
       "      <td>NaN</td>\n",
       "      <td>Hostage Taking (Kidnapping)</td>\n",
       "      <td>...</td>\n",
       "      <td>NaN</td>\n",
       "      <td>NaN</td>\n",
       "      <td>Unknown</td>\n",
       "      <td>NaN</td>\n",
       "      <td>0.0</td>\n",
       "      <td>0.0</td>\n",
       "      <td>NaN</td>\n",
       "      <td>NaN</td>\n",
       "      <td>NaN</td>\n",
       "      <td>NaN</td>\n",
       "    </tr>\n",
       "    <tr>\n",
       "      <th>2</th>\n",
       "      <td>1970.0</td>\n",
       "      <td>1.0</td>\n",
       "      <td>Philippines</td>\n",
       "      <td>Tarlac</td>\n",
       "      <td>Unknown</td>\n",
       "      <td>Southeast Asia</td>\n",
       "      <td>1.0</td>\n",
       "      <td>0.0</td>\n",
       "      <td>NaN</td>\n",
       "      <td>Assassination</td>\n",
       "      <td>...</td>\n",
       "      <td>NaN</td>\n",
       "      <td>NaN</td>\n",
       "      <td>Unknown</td>\n",
       "      <td>NaN</td>\n",
       "      <td>1.0</td>\n",
       "      <td>0.0</td>\n",
       "      <td>NaN</td>\n",
       "      <td>NaN</td>\n",
       "      <td>NaN</td>\n",
       "      <td>NaN</td>\n",
       "    </tr>\n",
       "    <tr>\n",
       "      <th>3</th>\n",
       "      <td>1970.0</td>\n",
       "      <td>1.0</td>\n",
       "      <td>Greece</td>\n",
       "      <td>Attica</td>\n",
       "      <td>Athens</td>\n",
       "      <td>Western Europe</td>\n",
       "      <td>1.0</td>\n",
       "      <td>0.0</td>\n",
       "      <td>NaN</td>\n",
       "      <td>Bombing/Explosion</td>\n",
       "      <td>...</td>\n",
       "      <td>NaN</td>\n",
       "      <td>NaN</td>\n",
       "      <td>Explosives</td>\n",
       "      <td>Unknown Explosive Type</td>\n",
       "      <td>NaN</td>\n",
       "      <td>NaN</td>\n",
       "      <td>NaN</td>\n",
       "      <td>NaN</td>\n",
       "      <td>NaN</td>\n",
       "      <td>NaN</td>\n",
       "    </tr>\n",
       "    <tr>\n",
       "      <th>4</th>\n",
       "      <td>1970.0</td>\n",
       "      <td>1.0</td>\n",
       "      <td>Japan</td>\n",
       "      <td>Fukouka</td>\n",
       "      <td>Fukouka</td>\n",
       "      <td>East Asia</td>\n",
       "      <td>1.0</td>\n",
       "      <td>0.0</td>\n",
       "      <td>NaN</td>\n",
       "      <td>Facility/Infrastructure Attack</td>\n",
       "      <td>...</td>\n",
       "      <td>NaN</td>\n",
       "      <td>NaN</td>\n",
       "      <td>Incendiary</td>\n",
       "      <td>NaN</td>\n",
       "      <td>NaN</td>\n",
       "      <td>NaN</td>\n",
       "      <td>NaN</td>\n",
       "      <td>NaN</td>\n",
       "      <td>NaN</td>\n",
       "      <td>NaN</td>\n",
       "    </tr>\n",
       "    <tr>\n",
       "      <th>...</th>\n",
       "      <td>...</td>\n",
       "      <td>...</td>\n",
       "      <td>...</td>\n",
       "      <td>...</td>\n",
       "      <td>...</td>\n",
       "      <td>...</td>\n",
       "      <td>...</td>\n",
       "      <td>...</td>\n",
       "      <td>...</td>\n",
       "      <td>...</td>\n",
       "      <td>...</td>\n",
       "      <td>...</td>\n",
       "      <td>...</td>\n",
       "      <td>...</td>\n",
       "      <td>...</td>\n",
       "      <td>...</td>\n",
       "      <td>...</td>\n",
       "      <td>...</td>\n",
       "      <td>...</td>\n",
       "      <td>...</td>\n",
       "      <td>...</td>\n",
       "    </tr>\n",
       "    <tr>\n",
       "      <th>181686</th>\n",
       "      <td>2017.0</td>\n",
       "      <td>12.0</td>\n",
       "      <td>Somalia</td>\n",
       "      <td>Middle Shebelle</td>\n",
       "      <td>Ceelka Geelow</td>\n",
       "      <td>Sub-Saharan Africa</td>\n",
       "      <td>1.0</td>\n",
       "      <td>0.0</td>\n",
       "      <td>Insurgency/Guerilla Action</td>\n",
       "      <td>Armed Assault</td>\n",
       "      <td>...</td>\n",
       "      <td>1.0</td>\n",
       "      <td>Unknown</td>\n",
       "      <td>Firearms</td>\n",
       "      <td>Unknown Gun Type</td>\n",
       "      <td>1.0</td>\n",
       "      <td>2.0</td>\n",
       "      <td>0.0</td>\n",
       "      <td>0.0</td>\n",
       "      <td>NaN</td>\n",
       "      <td>NaN</td>\n",
       "    </tr>\n",
       "    <tr>\n",
       "      <th>181687</th>\n",
       "      <td>2017.0</td>\n",
       "      <td>12.0</td>\n",
       "      <td>Syria</td>\n",
       "      <td>Lattakia</td>\n",
       "      <td>Jableh</td>\n",
       "      <td>Middle East &amp; North Africa</td>\n",
       "      <td>1.0</td>\n",
       "      <td>0.0</td>\n",
       "      <td>Insurgency/Guerilla Action</td>\n",
       "      <td>Bombing/Explosion</td>\n",
       "      <td>...</td>\n",
       "      <td>0.0</td>\n",
       "      <td>NaN</td>\n",
       "      <td>Explosives</td>\n",
       "      <td>Projectile (rockets, mortars, RPGs, etc.)</td>\n",
       "      <td>2.0</td>\n",
       "      <td>7.0</td>\n",
       "      <td>0.0</td>\n",
       "      <td>0.0</td>\n",
       "      <td>Unknown</td>\n",
       "      <td>NaN</td>\n",
       "    </tr>\n",
       "    <tr>\n",
       "      <th>181688</th>\n",
       "      <td>2017.0</td>\n",
       "      <td>12.0</td>\n",
       "      <td>Philippines</td>\n",
       "      <td>Maguindanao</td>\n",
       "      <td>Kubentog</td>\n",
       "      <td>Southeast Asia</td>\n",
       "      <td>1.0</td>\n",
       "      <td>0.0</td>\n",
       "      <td>NaN</td>\n",
       "      <td>Facility/Infrastructure Attack</td>\n",
       "      <td>...</td>\n",
       "      <td>0.0</td>\n",
       "      <td>NaN</td>\n",
       "      <td>Incendiary</td>\n",
       "      <td>Arson/Fire</td>\n",
       "      <td>0.0</td>\n",
       "      <td>0.0</td>\n",
       "      <td>0.0</td>\n",
       "      <td>0.0</td>\n",
       "      <td>Unknown</td>\n",
       "      <td>NaN</td>\n",
       "    </tr>\n",
       "    <tr>\n",
       "      <th>181689</th>\n",
       "      <td>2017.0</td>\n",
       "      <td>12.0</td>\n",
       "      <td>India</td>\n",
       "      <td>Manipur</td>\n",
       "      <td>Imphal</td>\n",
       "      <td>South Asia</td>\n",
       "      <td>0.0</td>\n",
       "      <td>0.0</td>\n",
       "      <td>NaN</td>\n",
       "      <td>Bombing/Explosion</td>\n",
       "      <td>...</td>\n",
       "      <td>0.0</td>\n",
       "      <td>NaN</td>\n",
       "      <td>Explosives</td>\n",
       "      <td>Grenade</td>\n",
       "      <td>0.0</td>\n",
       "      <td>0.0</td>\n",
       "      <td>0.0</td>\n",
       "      <td>0.0</td>\n",
       "      <td>NaN</td>\n",
       "      <td>NaN</td>\n",
       "    </tr>\n",
       "    <tr>\n",
       "      <th>181690</th>\n",
       "      <td>2017.0</td>\n",
       "      <td>12.0</td>\n",
       "      <td>Philippines</td>\n",
       "      <td>Maguindanao</td>\n",
       "      <td>Cotabato City</td>\n",
       "      <td>Southeast Asia</td>\n",
       "      <td>0.0</td>\n",
       "      <td>0.0</td>\n",
       "      <td>NaN</td>\n",
       "      <td>Bombing/Explosion</td>\n",
       "      <td>...</td>\n",
       "      <td>0.0</td>\n",
       "      <td>NaN</td>\n",
       "      <td>Explosives</td>\n",
       "      <td>Unknown Explosive Type</td>\n",
       "      <td>0.0</td>\n",
       "      <td>0.0</td>\n",
       "      <td>0.0</td>\n",
       "      <td>0.0</td>\n",
       "      <td>NaN</td>\n",
       "      <td>NaN</td>\n",
       "    </tr>\n",
       "  </tbody>\n",
       "</table>\n",
       "<p>181691 rows × 27 columns</p>\n",
       "</div>"
      ],
      "text/plain": [
       "          year  month         countryname    provincestate           city  \\\n",
       "0       1970.0    7.0  Dominican Republic              NaN  Santo Domingo   \n",
       "1       1970.0    0.0              Mexico          Federal    Mexico city   \n",
       "2       1970.0    1.0         Philippines           Tarlac        Unknown   \n",
       "3       1970.0    1.0              Greece           Attica         Athens   \n",
       "4       1970.0    1.0               Japan          Fukouka        Fukouka   \n",
       "...        ...    ...                 ...              ...            ...   \n",
       "181686  2017.0   12.0             Somalia  Middle Shebelle  Ceelka Geelow   \n",
       "181687  2017.0   12.0               Syria         Lattakia         Jableh   \n",
       "181688  2017.0   12.0         Philippines      Maguindanao       Kubentog   \n",
       "181689  2017.0   12.0               India          Manipur         Imphal   \n",
       "181690  2017.0   12.0         Philippines      Maguindanao  Cotabato City   \n",
       "\n",
       "                         regionname  success  suicide  \\\n",
       "0       Central America & Caribbean      1.0      0.0   \n",
       "1                     North America      1.0      0.0   \n",
       "2                    Southeast Asia      1.0      0.0   \n",
       "3                    Western Europe      1.0      0.0   \n",
       "4                         East Asia      1.0      0.0   \n",
       "...                             ...      ...      ...   \n",
       "181686           Sub-Saharan Africa      1.0      0.0   \n",
       "181687   Middle East & North Africa      1.0      0.0   \n",
       "181688               Southeast Asia      1.0      0.0   \n",
       "181689                   South Asia      0.0      0.0   \n",
       "181690               Southeast Asia      0.0      0.0   \n",
       "\n",
       "                             cause                    attacktype11  ...  \\\n",
       "0                              NaN                   Assassination  ...   \n",
       "1                              NaN     Hostage Taking (Kidnapping)  ...   \n",
       "2                              NaN                   Assassination  ...   \n",
       "3                              NaN               Bombing/Explosion  ...   \n",
       "4                              NaN  Facility/Infrastructure Attack  ...   \n",
       "...                            ...                             ...  ...   \n",
       "181686  Insurgency/Guerilla Action                   Armed Assault  ...   \n",
       "181687  Insurgency/Guerilla Action               Bombing/Explosion  ...   \n",
       "181688                         NaN  Facility/Infrastructure Attack  ...   \n",
       "181689                         NaN               Bombing/Explosion  ...   \n",
       "181690                         NaN               Bombing/Explosion  ...   \n",
       "\n",
       "       claimedattack claimedby     weapon1  \\\n",
       "0                NaN       NaN     Unknown   \n",
       "1                NaN       NaN     Unknown   \n",
       "2                NaN       NaN     Unknown   \n",
       "3                NaN       NaN  Explosives   \n",
       "4                NaN       NaN  Incendiary   \n",
       "...              ...       ...         ...   \n",
       "181686           1.0   Unknown    Firearms   \n",
       "181687           0.0       NaN  Explosives   \n",
       "181688           0.0       NaN  Incendiary   \n",
       "181689           0.0       NaN  Explosives   \n",
       "181690           0.0       NaN  Explosives   \n",
       "\n",
       "                                   weaponsubtype1 poplekilled peoplewounded  \\\n",
       "0                                             NaN         1.0           0.0   \n",
       "1                                             NaN         0.0           0.0   \n",
       "2                                             NaN         1.0           0.0   \n",
       "3                          Unknown Explosive Type         NaN           NaN   \n",
       "4                                             NaN         NaN           NaN   \n",
       "...                                           ...         ...           ...   \n",
       "181686                           Unknown Gun Type         1.0           2.0   \n",
       "181687  Projectile (rockets, mortars, RPGs, etc.)         2.0           7.0   \n",
       "181688                                 Arson/Fire         0.0           0.0   \n",
       "181689                                    Grenade         0.0           0.0   \n",
       "181690                     Unknown Explosive Type         0.0           0.0   \n",
       "\n",
       "       terroristkilled  terroristwounded extentofdamage ransompaidus  \n",
       "0                  NaN               NaN            NaN          NaN  \n",
       "1                  NaN               NaN            NaN          NaN  \n",
       "2                  NaN               NaN            NaN          NaN  \n",
       "3                  NaN               NaN            NaN          NaN  \n",
       "4                  NaN               NaN            NaN          NaN  \n",
       "...                ...               ...            ...          ...  \n",
       "181686             0.0               0.0            NaN          NaN  \n",
       "181687             0.0               0.0        Unknown          NaN  \n",
       "181688             0.0               0.0        Unknown          NaN  \n",
       "181689             0.0               0.0            NaN          NaN  \n",
       "181690             0.0               0.0            NaN          NaN  \n",
       "\n",
       "[181691 rows x 27 columns]"
      ]
     },
     "execution_count": 15,
     "metadata": {},
     "output_type": "execute_result"
    }
   ],
   "source": [
    "dfsel"
   ]
  },
  {
   "cell_type": "code",
   "execution_count": 17,
   "id": "18a881f2",
   "metadata": {},
   "outputs": [
    {
     "name": "stdout",
     "output_type": "stream",
     "text": [
      "<class 'pandas.core.frame.DataFrame'>\n",
      "RangeIndex: 181691 entries, 0 to 181690\n",
      "Columns: 135 entries, eventid to related\n",
      "dtypes: float64(77), object(58)\n",
      "memory usage: 187.1+ MB\n"
     ]
    }
   ],
   "source": [
    "df.info()"
   ]
  },
  {
   "cell_type": "code",
   "execution_count": 19,
   "id": "fa2aab29",
   "metadata": {},
   "outputs": [
    {
     "data": {
      "text/plain": [
       "Index(['year', 'month', 'countryname', 'provincestate', 'city', 'regionname',\n",
       "       'success', 'suicide', 'cause', 'attacktype11', 'attacktype22',\n",
       "       'target11', 'target111', 'motive', 'nationalityofterrorist', 'group',\n",
       "       'groupsubname', 'claimedattack', 'claimedby', 'weapon1',\n",
       "       'weaponsubtype1', 'poplekilled', 'peoplewounded', 'terroristkilled',\n",
       "       'terroristwounded', 'extentofdamage', 'ransompaidus'],\n",
       "      dtype='object')"
      ]
     },
     "execution_count": 19,
     "metadata": {},
     "output_type": "execute_result"
    }
   ],
   "source": [
    "dfsel.columns"
   ]
  },
  {
   "cell_type": "markdown",
   "id": "fe1cb987",
   "metadata": {},
   "source": [
    "### Checking the datatypes of the columns"
   ]
  },
  {
   "cell_type": "code",
   "execution_count": 20,
   "id": "2863ae0b",
   "metadata": {},
   "outputs": [
    {
     "data": {
      "text/plain": [
       "year                      float64\n",
       "month                     float64\n",
       "countryname                object\n",
       "provincestate              object\n",
       "city                       object\n",
       "regionname                 object\n",
       "success                   float64\n",
       "suicide                   float64\n",
       "cause                      object\n",
       "attacktype11               object\n",
       "attacktype22               object\n",
       "target11                   object\n",
       "target111                  object\n",
       "motive                     object\n",
       "nationalityofterrorist     object\n",
       "group                      object\n",
       "groupsubname               object\n",
       "claimedattack             float64\n",
       "claimedby                  object\n",
       "weapon1                    object\n",
       "weaponsubtype1             object\n",
       "poplekilled               float64\n",
       "peoplewounded             float64\n",
       "terroristkilled           float64\n",
       "terroristwounded          float64\n",
       "extentofdamage             object\n",
       "ransompaidus              float64\n",
       "dtype: object"
      ]
     },
     "execution_count": 20,
     "metadata": {},
     "output_type": "execute_result"
    }
   ],
   "source": [
    "dfsel.dtypes"
   ]
  },
  {
   "cell_type": "markdown",
   "id": "1b50e74b",
   "metadata": {},
   "source": [
    "### Identifying the null values"
   ]
  },
  {
   "cell_type": "code",
   "execution_count": 24,
   "id": "a920960a",
   "metadata": {},
   "outputs": [
    {
     "data": {
      "text/plain": [
       "year                      False\n",
       "month                     False\n",
       "countryname               False\n",
       "provincestate              True\n",
       "city                       True\n",
       "regionname                False\n",
       "success                   False\n",
       "suicide                   False\n",
       "cause                      True\n",
       "attacktype11              False\n",
       "attacktype22               True\n",
       "target11                  False\n",
       "target111                  True\n",
       "motive                     True\n",
       "nationalityofterrorist     True\n",
       "group                     False\n",
       "groupsubname               True\n",
       "claimedattack              True\n",
       "claimedby                  True\n",
       "weapon1                   False\n",
       "weaponsubtype1             True\n",
       "poplekilled                True\n",
       "peoplewounded              True\n",
       "terroristkilled            True\n",
       "terroristwounded           True\n",
       "extentofdamage             True\n",
       "ransompaidus               True\n",
       "dtype: bool"
      ]
     },
     "execution_count": 24,
     "metadata": {},
     "output_type": "execute_result"
    }
   ],
   "source": [
    "dfsel.isnull().any(axis=)"
   ]
  },
  {
   "cell_type": "markdown",
   "id": "c0b5b847",
   "metadata": {},
   "source": [
    "### Since this data is based on true events and incudes information like number of people killed, wounded which took place in real life, we can't apply interpolation. So, I am exporting the data."
   ]
  },
  {
   "cell_type": "code",
   "execution_count": 26,
   "id": "f5e19146",
   "metadata": {},
   "outputs": [
    {
     "name": "stdout",
     "output_type": "stream",
     "text": [
      "saved successfully\n"
     ]
    }
   ],
   "source": [
    "dfsel.to_excel(\"GripNovTerrorDataFrame.xlsx\", index=False)\n",
    "print(\"saved successfully\")"
   ]
  },
  {
   "cell_type": "code",
   "execution_count": null,
   "id": "e72cf8c9",
   "metadata": {},
   "outputs": [],
   "source": []
  }
 ],
 "metadata": {
  "kernelspec": {
   "display_name": "Python 3",
   "language": "python",
   "name": "python3"
  },
  "language_info": {
   "codemirror_mode": {
    "name": "ipython",
    "version": 3
   },
   "file_extension": ".py",
   "mimetype": "text/x-python",
   "name": "python",
   "nbconvert_exporter": "python",
   "pygments_lexer": "ipython3",
   "version": "3.8.8"
  }
 },
 "nbformat": 4,
 "nbformat_minor": 5
}
